{
 "cells": [
  {
   "cell_type": "code",
   "execution_count": null,
   "id": "ff60f800",
   "metadata": {},
   "outputs": [
    {
     "name": "stdout",
     "output_type": "stream",
     "text": [
      "1. EnterAccountDetails\n",
      " 2. Withdraw\n",
      " 3. Deposit\n",
      " 4. chckbalance\n",
      "select any option3\n",
      "enter amount to deposit400000\n",
      "current Bal: 0\n",
      "press y to perform another transaction\n",
      "y\n",
      "1. EnterAccountDetails\n",
      " 2. Withdraw\n",
      " 3. Deposit\n",
      " 4. chckbalance\n",
      "select any option2\n",
      "enter amount to withdraw3000\n",
      "current Bal: 0\n",
      "press y to perform another transaction\n"
     ]
    }
   ],
   "source": [
    "# Assignment 3\n",
    "# Simple Bankig System;\n",
    "# by Paul Nelson.\n",
    "\n",
    "AccountNumber = 0\n",
    "AccountName = \" \"\n",
    "BankName = \" \"\n",
    "Mobile = 0\n",
    "Balance = 0\n",
    "\n",
    "def EnterAccountDetails():\n",
    "    AccountNo = int(input(\"enter Account Number\"))\n",
    "    AccountName = input(\"enter Account Name\")\n",
    "    BankName = input(\"enter Bank Name\")\n",
    "    Mobile = int(input(\"enter Mobile Number\"))\n",
    "    global Balance\n",
    "    Balance = int(input(\"enter current Bal\"))\n",
    " \n",
    "def ShowAcctDetails():\n",
    "    print(\"AccountNo:\", AccountNo)\n",
    "    print(\"AccountName:\", AccountName)\n",
    "    print(\"BankName:\", BankName)\n",
    "    print(\"Mobile:\", Mobile)\n",
    "    \n",
    "def Deposit(amount):\n",
    "    Bal = Balance + amount\n",
    "    Chckbalance()\n",
    "\n",
    "def Withdraw (amount):\n",
    "    Bal = Balance - amount\n",
    "    Chckbalance()\n",
    "\n",
    "def Chckbalance():\n",
    "    print(\"current Bal:\", Balance)\n",
    "    \n",
    "Ch1 = 'y'\n",
    "\n",
    "while (Ch1 == \"y\"):\n",
    "            print(\"1. EnterAccountDetails\\n 2. Withdraw\\n 3. Deposit\\n 4. chckbalance\")\n",
    "            Ch = int(input(\"select any option\"))\n",
    "            if (Ch == 1):\n",
    "                EnterAccountDetails()\n",
    "            elif(Ch == 2):\n",
    "                amount = int(input(\"enter amount to withdraw\"))\n",
    "                Withdraw (amount)\n",
    "            elif(Ch == 3):\n",
    "                amount = int(input(\"enter amount to deposit\"))\n",
    "                Deposit(amount)\n",
    "            elif(Ch == 4):\n",
    "                Chckbalance()\n",
    "            else:\n",
    "                print(\"please select any options available above\")\n",
    "            print(\"press y to perform another transaction\")\n",
    "            Ch1 = input()\n",
    "            \n",
    "    \n",
    "\n",
    "    "
   ]
  },
  {
   "cell_type": "markdown",
   "id": "aa0940d9",
   "metadata": {},
   "source": [
    "## "
   ]
  }
 ],
 "metadata": {
  "kernelspec": {
   "display_name": "Python 3 (ipykernel)",
   "language": "python",
   "name": "python3"
  },
  "language_info": {
   "codemirror_mode": {
    "name": "ipython",
    "version": 3
   },
   "file_extension": ".py",
   "mimetype": "text/x-python",
   "name": "python",
   "nbconvert_exporter": "python",
   "pygments_lexer": "ipython3",
   "version": "3.11.5"
  }
 },
 "nbformat": 4,
 "nbformat_minor": 5
}
