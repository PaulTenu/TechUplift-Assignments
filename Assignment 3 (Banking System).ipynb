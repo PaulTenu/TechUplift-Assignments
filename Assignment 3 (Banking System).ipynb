{
 "cells": [
  {
   "cell_type": "code",
   "execution_count": null,
   "id": "ff60f800",
   "metadata": {},
   "outputs": [
    {
     "name": "stdout",
     "output_type": "stream",
     "text": [
      "1. EnterAccountDetails\n",
      " 2. Withdraw\n",
      " 3. deposit\n",
      " 4. chck balance\n",
      "select any option1\n",
      "enter Account Number222333\n",
      "enter Account NamePaul\n",
      "enter Bank NameAccess\n",
      "enter Mobile Number222617\n",
      "enter current Bal20000\n",
      "press y to perform another transaction\n",
      "y\n",
      "1. EnterAccountDetails\n",
      " 2. Withdraw\n",
      " 3. deposit\n",
      " 4. chck balance\n"
     ]
    }
   ],
   "source": [
    "# Assignment 3\n",
    "# Simple Bankig System;\n",
    "# by Paul Nelson.\n",
    "\n",
    "AccountNumber = 0\n",
    "AccountName = \" \"\n",
    "BankName = \" \"\n",
    "Mobile = 0\n",
    "Bal = 0\n",
    "\n",
    "def EnterAccountDetails():\n",
    "    AccountNo = int(input(\"enter Account Number\"))\n",
    "    AccountName = input(\"enter Account Name\")\n",
    "    BankName = input(\"enter Bank Name\")\n",
    "    Mobile = int(input(\"enter Mobile Number\"))\n",
    "    Bal = int(input(\"enter current Bal\"))\n",
    " \n",
    "def ShowAcctDetails():\n",
    "    print(\"AccountNo:\", AccountNo)\n",
    "    print(\"AccountName:\", AccountName)\n",
    "    print(\"BankName:\", BankName)\n",
    "    print(\"Mobile:\", Mobile)\n",
    "    \n",
    "def Deposit(amount):\n",
    "    Bal = Balance + amount\n",
    "    chckbalance()\n",
    "\n",
    "def Withdraw (amount):\n",
    "    Bal = Balance - amount\n",
    "    chckbalance()\n",
    "\n",
    "def Checkbalance():\n",
    "    print(\"current Balance:\", Bal)\n",
    "    \n",
    "Ch1 = 'y'\n",
    "\n",
    "while (Ch1 == \"y\"):\n",
    "            print(\"1. EnterAccountDetails\\n 2. Withdraw\\n 3. deposit\\n 4. chck balance\")\n",
    "            Ch = int(input(\"select any option\"))\n",
    "            if (Ch == 1):\n",
    "                EnterAccountDetails()\n",
    "            elif(Ch == 2):\n",
    "                amount = int(input(\"enter amount to withdraw\"))\n",
    "                Withdraw (amount)\n",
    "            elif(Ch == 3):\n",
    "                amount = int(input(\"enter amount to deposit\"))\n",
    "                Deposit(amount)\n",
    "            elif(Ch == 4):\n",
    "                checkBalance()\n",
    "            else:\n",
    "                print(\"please select any options available above\")\n",
    "            print(\"press y to perform another transaction\")\n",
    "            Ch1 = input()\n",
    "            \n",
    "    \n",
    "\n",
    "    "
   ]
  },
  {
   "cell_type": "code",
   "execution_count": null,
   "id": "56c1b341",
   "metadata": {},
   "outputs": [],
   "source": []
  }
 ],
 "metadata": {
  "kernelspec": {
   "display_name": "Python 3 (ipykernel)",
   "language": "python",
   "name": "python3"
  },
  "language_info": {
   "codemirror_mode": {
    "name": "ipython",
    "version": 3
   },
   "file_extension": ".py",
   "mimetype": "text/x-python",
   "name": "python",
   "nbconvert_exporter": "python",
   "pygments_lexer": "ipython3",
   "version": "3.11.5"
  }
 },
 "nbformat": 4,
 "nbformat_minor": 5
}
