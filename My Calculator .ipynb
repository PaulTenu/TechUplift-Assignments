{
 "cells": [
  {
   "cell_type": "code",
   "execution_count": 1,
   "id": "5c22faac",
   "metadata": {},
   "outputs": [
    {
     "name": "stdout",
     "output_type": "stream",
     "text": [
      " my name is Paul Nelson\n"
     ]
    }
   ],
   "source": [
    "print(\" my name is Paul Nelson\")"
   ]
  },
  {
   "cell_type": "code",
   "execution_count": 2,
   "id": "bb2f188e",
   "metadata": {},
   "outputs": [
    {
     "name": "stdout",
     "output_type": "stream",
     "text": [
      "this is my Calculator Assignment\n"
     ]
    }
   ],
   "source": [
    "print(\"this is my Calculator Assignment\")"
   ]
  },
  {
   "cell_type": "code",
   "execution_count": null,
   "id": "ab9f01b4",
   "metadata": {},
   "outputs": [],
   "source": [
    "a = int(input(\"please enter the first number: \"))\n",
    "b = int(input(\"please enter the second number: \"))\n",
    "print(\"Good choice of number: \")\n",
    "opper = input(\"please enter one operator(+, -, *, /, //, %, **,): \")\n",
    "if(opper == \"+\"):\n",
    "    print(a + b)\n",
    "elif(opper == \"-\"):\n",
    "    print(a-b)\n",
    "elif(opper == \"*\"):\n",
    "    print(a * b)\n",
    "elif(opper == \"/\"):\n",
    "    print(a / b)\n",
    "elif(opper == \"//\"):\n",
    "    print(a // b)\n",
    "elif(opper == \"%\"):\n",
    "    print(a % b)\n",
    "elif(opper == \"**\"):\n",
    "    print(a ** b)\n",
    "    print(\"thank you for using my calculator \")"
   ]
  },
  {
   "cell_type": "code",
   "execution_count": null,
   "id": "9832b511",
   "metadata": {},
   "outputs": [],
   "source": []
  }
 ],
 "metadata": {
  "kernelspec": {
   "display_name": "Python 3 (ipykernel)",
   "language": "python",
   "name": "python3"
  },
  "language_info": {
   "codemirror_mode": {
    "name": "ipython",
    "version": 3
   },
   "file_extension": ".py",
   "mimetype": "text/x-python",
   "name": "python",
   "nbconvert_exporter": "python",
   "pygments_lexer": "ipython3",
   "version": "3.11.5"
  }
 },
 "nbformat": 4,
 "nbformat_minor": 5
}
