{
 "cells": [
  {
   "cell_type": "code",
   "execution_count": 3,
   "id": "071fc6cb",
   "metadata": {},
   "outputs": [
    {
     "ename": "SyntaxError",
     "evalue": "invalid syntax (2280197610.py, line 1)",
     "output_type": "error",
     "traceback": [
      "\u001b[1;36m  Cell \u001b[1;32mIn[3], line 1\u001b[1;36m\u001b[0m\n\u001b[1;33m    -=hello world\u001b[0m\n\u001b[1;37m    ^\u001b[0m\n\u001b[1;31mSyntaxError\u001b[0m\u001b[1;31m:\u001b[0m invalid syntax\n"
     ]
    }
   ],
   "source": []
  },
  {
   "cell_type": "code",
   "execution_count": 2,
   "id": "17becf08",
   "metadata": {},
   "outputs": [],
   "source": [
    "Name =\"Paul Nelson\"\n",
    "Project=\"build a program that check whether a given number is a prime or not using functions and control flow statement\""
   ]
  },
  {
   "cell_type": "code",
   "execution_count": 15,
   "id": "0e54cc49",
   "metadata": {},
   "outputs": [
    {
     "name": "stdout",
     "output_type": "stream",
     "text": [
      "Paul Nelson\n"
     ]
    }
   ],
   "source": [
    "print(Name)"
   ]
  },
  {
   "cell_type": "code",
   "execution_count": 3,
   "id": "f2ce7a28",
   "metadata": {},
   "outputs": [
    {
     "name": "stdout",
     "output_type": "stream",
     "text": [
      "build a program that check whether a given number is a prime or not using functions and control flow statement\n"
     ]
    }
   ],
   "source": [
    "print(Project)"
   ]
  },
  {
   "cell_type": "code",
   "execution_count": null,
   "id": "a55775df",
   "metadata": {},
   "outputs": [],
   "source": [
    "m = int(input(\"Enter Number \"))\n",
    "for i in range(2, m):\n",
    "    if m % 1 == 0:\n",
    "        print(m, \"is not a prime\")\n",
    "        break\n",
    "else:\n",
    "    print(m, \"is prime\")\n"
   ]
  },
  {
   "cell_type": "code",
   "execution_count": null,
   "id": "bafda316",
   "metadata": {},
   "outputs": [],
   "source": []
  },
  {
   "cell_type": "code",
   "execution_count": null,
   "id": "030c6ade",
   "metadata": {},
   "outputs": [],
   "source": []
  },
  {
   "cell_type": "code",
   "execution_count": null,
   "id": "6d43ef4f",
   "metadata": {},
   "outputs": [],
   "source": []
  }
 ],
 "metadata": {
  "kernelspec": {
   "display_name": "Python 3 (ipykernel)",
   "language": "python",
   "name": "python3"
  },
  "language_info": {
   "codemirror_mode": {
    "name": "ipython",
    "version": 3
   },
   "file_extension": ".py",
   "mimetype": "text/x-python",
   "name": "python",
   "nbconvert_exporter": "python",
   "pygments_lexer": "ipython3",
   "version": "3.11.5"
  }
 },
 "nbformat": 4,
 "nbformat_minor": 5
}
