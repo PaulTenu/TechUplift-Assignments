{
 "cells": [
  {
   "cell_type": "code",
   "execution_count": 6,
   "id": "ff60f800",
   "metadata": {},
   "outputs": [
    {
     "ename": "SyntaxError",
     "evalue": "invalid syntax (688816178.py, line 35)",
     "output_type": "error",
     "traceback": [
      "\u001b[1;36m  Cell \u001b[1;32mIn[6], line 35\u001b[1;36m\u001b[0m\n\u001b[1;33m    While (ch==\"y\"):\u001b[0m\n\u001b[1;37m                   ^\u001b[0m\n\u001b[1;31mSyntaxError\u001b[0m\u001b[1;31m:\u001b[0m invalid syntax\n"
     ]
    }
   ],
   "source": [
    "# Assignment 3\n",
    "# Simple Bankig System;\n",
    "# by Paul Nelson.\n",
    "\n",
    "AccountNumber = 0\n",
    "AccountName = \" \"\n",
    "BankName = \" \"\n",
    "Mobile = 0\n",
    "\n",
    "def EnterAccountDetails():\n",
    "    AccountNo = int(input(\"enter Account Number\"))\n",
    "    AccountName = input(\"enter Account Name\")\n",
    "    BankName = input(\"enter Bank Name\")\n",
    "    Mobile = int(input(\"enter Mobile Number\"))\n",
    " \n",
    "def ShowAcctDetails():\n",
    "    print(\"AccountNo:\", AccountNo)\n",
    "    print(\"AccountName:\", AccountName)\n",
    "    print(\"BankName:\", BankName)\n",
    "    print(\"Mobile:\", Mobile)\n",
    "    \n",
    "def Deposit(amount):\n",
    "    Balance = Balance + amount\n",
    "    checkbalance()\n",
    "\n",
    "def Withdraw (amount):\n",
    "    Balance = Balance - amount\n",
    "    checkbalance()\n",
    "\n",
    "def Checkbalance():\n",
    "    print(\"current Balance:\", Balance)\n",
    "    \n",
    "Ch1 = \"y\"\n",
    "ch2 = \"x\"\n",
    "While (ch==\"y\"):\n",
    "      (ch==\"x\"):\n",
    "            print(\"1. EnterAccountDetails\\n 2. Withdraw\\n 3. deposit\\n 4. check balance\")\n",
    "            ch = int(input(\"select any option\"))\n",
    "            if (ch == 1):\n",
    "                EnterAccountDetails()\n",
    "            elif(ch == 2):\n",
    "                amount = int(input(\"enter amount to withdraw\"))\n",
    "                Withdraw (amount)\n",
    "            elif(ch == 3):\n",
    "                amount = int(input(enter amount to deposit))\n",
    "                Deposit(amount)\n",
    "            elif(ch == 4):\n",
    "                checkBalance()\n",
    "            else:\n",
    "                print(\"please select any options available above\")\n",
    "            print(\"press y to perform another transaction\")\n",
    "            print(\"press x to exit\")\n",
    "            \n",
    "    \n",
    "\n",
    "    "
   ]
  },
  {
   "cell_type": "code",
   "execution_count": null,
   "id": "56c1b341",
   "metadata": {},
   "outputs": [],
   "source": []
  }
 ],
 "metadata": {
  "kernelspec": {
   "display_name": "Python 3 (ipykernel)",
   "language": "python",
   "name": "python3"
  },
  "language_info": {
   "codemirror_mode": {
    "name": "ipython",
    "version": 3
   },
   "file_extension": ".py",
   "mimetype": "text/x-python",
   "name": "python",
   "nbconvert_exporter": "python",
   "pygments_lexer": "ipython3",
   "version": "3.11.5"
  }
 },
 "nbformat": 4,
 "nbformat_minor": 5
}
