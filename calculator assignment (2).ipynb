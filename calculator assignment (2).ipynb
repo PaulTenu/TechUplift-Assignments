{
 "cells": [
  {
   "cell_type": "code",
   "execution_count": 1,
   "id": "36378ee8",
   "metadata": {},
   "outputs": [
    {
     "name": "stdout",
     "output_type": "stream",
     "text": [
      " my name is Paul Nelson\n"
     ]
    }
   ],
   "source": [
    "print(\" my name is Paul Nelson\")"
   ]
  },
  {
   "cell_type": "code",
   "execution_count": 2,
   "id": "a83ee7b9",
   "metadata": {},
   "outputs": [
    {
     "name": "stdout",
     "output_type": "stream",
     "text": [
      "this is my Calculator Assignment\n"
     ]
    }
   ],
   "source": [
    "print(\"this is my Calculator Assignment\")"
   ]
  },
  {
   "cell_type": "code",
   "execution_count": null,
   "id": "e9b7370d",
   "metadata": {},
   "outputs": [],
   "source": [
    "a = int(input(\"please enter the first number: \"))\n",
    "b = int(input(\"please enter the second number: \"))\n",
    "print(\"Good choice of number: \")\n",
    "opper = input(\"please enter one operator(+, -, *, /, //, %, **,): \")\n",
    "if(opper == \"+\"):\n",
    "    print(a + b)\n",
    "elif(opper == \"-\"):\n",
    "    print(a-b)\n",
    "elif(opper == \"*\"):\n",
    "    print(a * b)\n",
    "elif(opper == \"/\"):\n",
    "    print(a / b)\n",
    "elif(opper == \"//\"):\n",
    "    print(a // b)\n",
    "elif(opper == \"%\"):\n",
    "    print(a % b)\n",
    "elif(opper == \"**\"):\n",
    "    print(a ** b)\n",
    "    print(\"thank you for using my calculator \")\n",
    "else:\n",
    "    print(\"Error \")\n",
    "    "
   ]
  },
  {
   "cell_type": "markdown",
   "id": "1a754609",
   "metadata": {},
   "source": []
  },
  {
   "cell_type": "code",
   "execution_count": null,
   "id": "6c98819e",
   "metadata": {},
   "outputs": [],
   "source": []
  },
  {
   "cell_type": "markdown",
   "id": "9162bfb6",
   "metadata": {},
   "source": []
  },
  {
   "cell_type": "code",
   "execution_count": null,
   "id": "9d2727c0",
   "metadata": {},
   "outputs": [],
   "source": []
  },
  {
   "cell_type": "code",
   "execution_count": null,
   "id": "8ddbec56",
   "metadata": {},
   "outputs": [],
   "source": []
  },
  {
   "cell_type": "code",
   "execution_count": null,
   "id": "26b85d23",
   "metadata": {},
   "outputs": [],
   "source": []
  },
  {
   "cell_type": "code",
   "execution_count": null,
   "id": "bd203ec3",
   "metadata": {},
   "outputs": [],
   "source": []
  },
  {
   "cell_type": "code",
   "execution_count": null,
   "id": "fbefe7d5",
   "metadata": {},
   "outputs": [],
   "source": []
  }
 ],
 "metadata": {
  "kernelspec": {
   "display_name": "Python 3 (ipykernel)",
   "language": "python",
   "name": "python3"
  },
  "language_info": {
   "codemirror_mode": {
    "name": "ipython",
    "version": 3
   },
   "file_extension": ".py",
   "mimetype": "text/x-python",
   "name": "python",
   "nbconvert_exporter": "python",
   "pygments_lexer": "ipython3",
   "version": "3.11.5"
  }
 },
 "nbformat": 4,
 "nbformat_minor": 5
}
